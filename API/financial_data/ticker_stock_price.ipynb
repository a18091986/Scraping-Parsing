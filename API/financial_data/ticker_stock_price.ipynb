{
 "cells": [
  {
   "cell_type": "code",
   "execution_count": 62,
   "id": "797822f9-db44-470f-8b3a-ab3f37df7cb2",
   "metadata": {},
   "outputs": [],
   "source": [
    "import pandas as pd\n",
    "import requests"
   ]
  },
  {
   "cell_type": "code",
   "execution_count": 63,
   "id": "18eac927-1aca-4dc8-9382-374042a71b9f",
   "metadata": {},
   "outputs": [],
   "source": [
    "ticker = 'SPCE'\n",
    "RAPID_API_KEY = '34bba2b52emsh9069b54ce307152p1da83ajsna01e65c25613'"
   ]
  },
  {
   "cell_type": "code",
   "execution_count": 64,
   "id": "a84727f6-7102-4598-8b36-a5d2faa815c1",
   "metadata": {},
   "outputs": [],
   "source": [
    "def get_stock_price(ticker: str, period: str, rapid_api_key: str) -> pd.DataFrame:\n",
    "    \"\"\"\n",
    "    period: 1D - 1 day, 5D - 5 days, 1M - 1 month, 6M - 6 months, YTD - year-to-date, 1Y - 1 year, 5Y - 5 years, MAX - all times.\n",
    "    \"\"\"\n",
    "    url = \"https://real-time-finance-data.p.rapidapi.com/stock-time-series\"\n",
    "\n",
    "    querystring = {\"symbol\":ticker, \"period\":period, \"language\":\"en\"}\n",
    "\n",
    "    headers = {\n",
    "    \t\"X-RapidAPI-Key\": rapid_api_key,\n",
    "    \t\"X-RapidAPI-Host\": \"real-time-finance-data.p.rapidapi.com\"\n",
    "    }\n",
    "\n",
    "    response = requests.get(url, headers=headers, params=querystring)\n",
    "    return pd.DataFrame.from_dict(response.json().get('data').get('time_series'), orient='index')\n",
    "    "
   ]
  },
  {
   "cell_type": "code",
   "execution_count": 65,
   "id": "b17e10d2-a9b7-4808-b50a-80285327a63e",
   "metadata": {},
   "outputs": [],
   "source": [
    "stock = get_stock_price('SPCE', 'YTD', RAPID_API_KEY)"
   ]
  },
  {
   "cell_type": "code",
   "execution_count": 66,
   "id": "ce7793cc-5e28-40dd-9097-166193462806",
   "metadata": {},
   "outputs": [],
   "source": [
    "stock = stock.reset_index()\n",
    "stock = stock.rename(columns={\"index\":\"dt\"})"
   ]
  },
  {
   "cell_type": "code",
   "execution_count": 67,
   "id": "9b335b07-aae2-4795-8717-5caee818a2c4",
   "metadata": {},
   "outputs": [
    {
     "data": {
      "text/html": [
       "<div>\n",
       "<style scoped>\n",
       "    .dataframe tbody tr th:only-of-type {\n",
       "        vertical-align: middle;\n",
       "    }\n",
       "\n",
       "    .dataframe tbody tr th {\n",
       "        vertical-align: top;\n",
       "    }\n",
       "\n",
       "    .dataframe thead th {\n",
       "        text-align: right;\n",
       "    }\n",
       "</style>\n",
       "<table border=\"1\" class=\"dataframe\">\n",
       "  <thead>\n",
       "    <tr style=\"text-align: right;\">\n",
       "      <th></th>\n",
       "      <th>dt</th>\n",
       "      <th>price</th>\n",
       "      <th>change</th>\n",
       "      <th>change_percent</th>\n",
       "      <th>volume</th>\n",
       "    </tr>\n",
       "  </thead>\n",
       "  <tbody>\n",
       "    <tr>\n",
       "      <th>0</th>\n",
       "      <td>2023-01-03 16:00:00</td>\n",
       "      <td>3.49</td>\n",
       "      <td>0.00</td>\n",
       "      <td>0.0000</td>\n",
       "      <td>7668027.0</td>\n",
       "    </tr>\n",
       "    <tr>\n",
       "      <th>1</th>\n",
       "      <td>2023-01-04 16:00:00</td>\n",
       "      <td>3.64</td>\n",
       "      <td>0.15</td>\n",
       "      <td>0.0430</td>\n",
       "      <td>4858879.0</td>\n",
       "    </tr>\n",
       "    <tr>\n",
       "      <th>2</th>\n",
       "      <td>2023-01-05 16:00:00</td>\n",
       "      <td>3.66</td>\n",
       "      <td>0.17</td>\n",
       "      <td>0.0487</td>\n",
       "      <td>5262860.0</td>\n",
       "    </tr>\n",
       "    <tr>\n",
       "      <th>3</th>\n",
       "      <td>2023-01-06 16:00:00</td>\n",
       "      <td>3.69</td>\n",
       "      <td>0.20</td>\n",
       "      <td>0.0573</td>\n",
       "      <td>4090692.0</td>\n",
       "    </tr>\n",
       "    <tr>\n",
       "      <th>4</th>\n",
       "      <td>2023-01-09 16:00:00</td>\n",
       "      <td>3.91</td>\n",
       "      <td>0.42</td>\n",
       "      <td>0.1203</td>\n",
       "      <td>10357731.0</td>\n",
       "    </tr>\n",
       "    <tr>\n",
       "      <th>...</th>\n",
       "      <td>...</td>\n",
       "      <td>...</td>\n",
       "      <td>...</td>\n",
       "      <td>...</td>\n",
       "      <td>...</td>\n",
       "    </tr>\n",
       "    <tr>\n",
       "      <th>227</th>\n",
       "      <td>2023-11-28 16:00:00</td>\n",
       "      <td>2.12</td>\n",
       "      <td>-1.37</td>\n",
       "      <td>-0.3926</td>\n",
       "      <td>9996317.0</td>\n",
       "    </tr>\n",
       "    <tr>\n",
       "      <th>228</th>\n",
       "      <td>2023-11-29 16:00:00</td>\n",
       "      <td>2.20</td>\n",
       "      <td>-1.29</td>\n",
       "      <td>-0.3696</td>\n",
       "      <td>10875523.0</td>\n",
       "    </tr>\n",
       "    <tr>\n",
       "      <th>229</th>\n",
       "      <td>2023-11-30 16:00:00</td>\n",
       "      <td>2.23</td>\n",
       "      <td>-1.26</td>\n",
       "      <td>-0.3610</td>\n",
       "      <td>10559680.0</td>\n",
       "    </tr>\n",
       "    <tr>\n",
       "      <th>230</th>\n",
       "      <td>2023-12-01 16:00:00</td>\n",
       "      <td>2.34</td>\n",
       "      <td>-1.15</td>\n",
       "      <td>-0.3295</td>\n",
       "      <td>11259913.0</td>\n",
       "    </tr>\n",
       "    <tr>\n",
       "      <th>231</th>\n",
       "      <td>2023-12-04 13:14:00</td>\n",
       "      <td>1.96</td>\n",
       "      <td>-1.53</td>\n",
       "      <td>-0.4384</td>\n",
       "      <td>NaN</td>\n",
       "    </tr>\n",
       "  </tbody>\n",
       "</table>\n",
       "<p>232 rows × 5 columns</p>\n",
       "</div>"
      ],
      "text/plain": [
       "                      dt  price  change  change_percent      volume\n",
       "0    2023-01-03 16:00:00   3.49    0.00          0.0000   7668027.0\n",
       "1    2023-01-04 16:00:00   3.64    0.15          0.0430   4858879.0\n",
       "2    2023-01-05 16:00:00   3.66    0.17          0.0487   5262860.0\n",
       "3    2023-01-06 16:00:00   3.69    0.20          0.0573   4090692.0\n",
       "4    2023-01-09 16:00:00   3.91    0.42          0.1203  10357731.0\n",
       "..                   ...    ...     ...             ...         ...\n",
       "227  2023-11-28 16:00:00   2.12   -1.37         -0.3926   9996317.0\n",
       "228  2023-11-29 16:00:00   2.20   -1.29         -0.3696  10875523.0\n",
       "229  2023-11-30 16:00:00   2.23   -1.26         -0.3610  10559680.0\n",
       "230  2023-12-01 16:00:00   2.34   -1.15         -0.3295  11259913.0\n",
       "231  2023-12-04 13:14:00   1.96   -1.53         -0.4384         NaN\n",
       "\n",
       "[232 rows x 5 columns]"
      ]
     },
     "execution_count": 67,
     "metadata": {},
     "output_type": "execute_result"
    }
   ],
   "source": [
    "stock"
   ]
  },
  {
   "cell_type": "code",
   "execution_count": 68,
   "id": "70da36a9-403a-428e-8f59-fdfb26b95439",
   "metadata": {},
   "outputs": [],
   "source": [
    "stock.to_csv(f\"{ticker}_stock.csv\", index=False)"
   ]
  }
 ],
 "metadata": {
  "kernelspec": {
   "display_name": "Python 3 (ipykernel)",
   "language": "python",
   "name": "python3"
  },
  "language_info": {
   "codemirror_mode": {
    "name": "ipython",
    "version": 3
   },
   "file_extension": ".py",
   "mimetype": "text/x-python",
   "name": "python",
   "nbconvert_exporter": "python",
   "pygments_lexer": "ipython3",
   "version": "3.12.0"
  }
 },
 "nbformat": 4,
 "nbformat_minor": 5
}
